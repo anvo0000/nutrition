{
 "cells": [
  {
   "cell_type": "markdown",
   "metadata": {},
   "source": [
    "### 4. Loading Documents into ChromaDB"
   ]
  },
  {
   "cell_type": "code",
   "execution_count": 1,
   "metadata": {},
   "outputs": [],
   "source": [
    "# from langchain.document_loaders import PyMuPDFLoader\n",
    "\n",
    "# # load document from file_path to memory\n",
    "# def load_file(file_path):\n",
    "#   pdf_loader = PyMuPDFLoader(file_path)\n",
    "#   document = pdf_loader.load()\n",
    "  # return document\n",
    "\n",
    "import os\n",
    "from langchain.document_loaders import PyMuPDFLoader\n",
    "\n",
    "# Load all PDFs from a directory or a single file\n",
    "def load_file(file_path):\n",
    "    documents = []\n",
    "    \n",
    "    if os.path.isdir(file_path):\n",
    "        # If the path is a directory, process each PDF file in the directory\n",
    "        for file_name in os.listdir(file_path):\n",
    "            if file_name.endswith(\".pdf\"):\n",
    "                pdf_loader = PyMuPDFLoader(os.path.join(file_path, file_name))\n",
    "                documents.extend(pdf_loader.load())\n",
    "    elif file_path.endswith(\".pdf\"):\n",
    "        # If it's a single PDF file, just load it\n",
    "        pdf_loader = PyMuPDFLoader(file_path)\n",
    "        documents = pdf_loader.load()\n",
    "\n",
    "    return documents\n"
   ]
  },
  {
   "cell_type": "code",
   "execution_count": 2,
   "metadata": {},
   "outputs": [
    {
     "name": "stdout",
     "output_type": "stream",
     "text": [
      "[Document(metadata={'source': 'document/HealthyEatingPlate.pdf', 'file_path': 'document/HealthyEatingPlate.pdf', 'page': 0, 'total_pages': 3, 'format': 'PDF 1.4', 'title': 'Healthy Eating Plate – The Nutrition Source', 'author': '', 'subject': '', 'keywords': '', 'creator': 'Mozilla/5.0 (Macintosh; Intel Mac OS X 10_15_7) AppleWebKit/537.36 (KHTML, like Gecko) Chrome/129.0.0.0 Safari/537.36', 'producer': 'Skia/PDF m129', 'creationDate': \"D:20240923084939+00'00'\", 'modDate': \"D:20240923084939+00'00'\", 'trapped': ''}, page_content='HEALTHY \\nOILS\\nWATER\\nVEGETABLES\\nFRUITS\\nHEALTHY \\nPROTEIN\\nWHOLE \\nGRAINS\\nLooking for a printable copy? Download one here, and hang it on your\\nrefrigerator to serve as a daily reminder when planning and preparing your\\nmeals! Translations of the Healthy Eating Plate are also available in over 25\\nlanguages.\\nBuilding a Healthy and Balanced Diet\\nMake most of your meal vegetables and fruits – ½ of your plate.\\nAim for color and variety, and remember that potatoes don’t count as\\nvegetables on the Healthy Eating Plate because of their negative impact on\\nblood sugar.\\n9/23/24, 3:49 PM\\nHealthy Eating Plate – The Nutrition Source\\nhttps://nutritionsource.hsph.harvard.edu/healthy-eating-plate/\\n2/8\\n'), Document(metadata={'source': 'document/HealthyEatingPlate.pdf', 'file_path': 'document/HealthyEatingPlate.pdf', 'page': 1, 'total_pages': 3, 'format': 'PDF 1.4', 'title': 'Healthy Eating Plate – The Nutrition Source', 'author': '', 'subject': '', 'keywords': '', 'creator': 'Mozilla/5.0 (Macintosh; Intel Mac OS X 10_15_7) AppleWebKit/537.36 (KHTML, like Gecko) Chrome/129.0.0.0 Safari/537.36', 'producer': 'Skia/PDF m129', 'creationDate': \"D:20240923084939+00'00'\", 'modDate': \"D:20240923084939+00'00'\", 'trapped': ''}, page_content='Go for whole grains – ¼ of your plate.\\nWhole and intact grains—whole wheat, barley, wheat berries, quinoa, oats,\\nbrown rice, and foods made with them, such as whole wheat pasta—have a\\nmilder effect on blood sugar and insulin than white bread, white rice, and\\nother refined grains.\\nProtein power – ¼ of your plate.\\nFish, poultry, beans, and nuts are all healthy, versatile protein sources—they\\ncan be mixed into salads, and pair well with vegetables on a plate. Limit red\\nmeat, and avoid processed meats such as bacon and sausage.\\nHealthy plant oils – in moderation.\\nChoose healthy vegetable oils like olive, canola, soy, corn, sunflower, peanut,\\nand others, and avoid partially hydrogenated oils, which contain unhealthy\\ntrans fats. Remember that low-fat does not mean “healthy.”\\nDrink water, coffee, or tea.\\nSkip sugary drinks, limit milk and dairy products to one to two servings per\\nday, and limit juice to a small glass per day.\\nStay active.\\nThe red figure running across the Healthy Eating Plate’s placemat is a\\nreminder that staying active is also important in weight control.\\nThe main message of the Healthy Eating Plate is to focus on diet quality:\\nThe type of carbohydrate in the diet is more important than the amount of\\ncarbohydrate in the diet, because some sources of carbohydrate—like\\nvegetables (other than potatoes), fruits, whole grains, and beans—are\\nhealthier than others.\\nThe Healthy Eating Plate also advises consumers to avoid sugary beverages, a\\nmajor source of calories—usually with little nutritional value—in the\\nAmerican diet.\\n9/23/24, 3:49 PM\\nHealthy Eating Plate – The Nutrition Source\\nhttps://nutritionsource.hsph.harvard.edu/healthy-eating-plate/\\n3/8\\n'), Document(metadata={'source': 'document/HealthyEatingPlate.pdf', 'file_path': 'document/HealthyEatingPlate.pdf', 'page': 2, 'total_pages': 3, 'format': 'PDF 1.4', 'title': 'Healthy Eating Plate – The Nutrition Source', 'author': '', 'subject': '', 'keywords': '', 'creator': 'Mozilla/5.0 (Macintosh; Intel Mac OS X 10_15_7) AppleWebKit/537.36 (KHTML, like Gecko) Chrome/129.0.0.0 Safari/537.36', 'producer': 'Skia/PDF m129', 'creationDate': \"D:20240923084939+00'00'\", 'modDate': \"D:20240923084939+00'00'\", 'trapped': ''}, page_content='The Healthy Eating Plate encourages consumers to use healthy oils, and it\\ndoes not set a maximum on the percentage of calories people should get each\\nday from healthy sources of fat. In this way, the Healthy Eating Plate\\nrecommends the opposite of the low-fat message promoted for decades by the\\nUSDA.\\nYour Questions Answered\\nYour Plate and the Planet\\nJust as different foods can have differing impacts on human health, they also have\\ndiffering impacts on the environment. Food production is a major contributor to\\ngreenhouse gas emissions, and it places an enormous demand upon our earth’s\\nnatural resources.\\nLEARN ABOUT THE IMPACTS OF THE FOODS ON YOUR PLATE\\n9/23/24, 3:49 PM\\nHealthy Eating Plate – The Nutrition Source\\nhttps://nutritionsource.hsph.harvard.edu/healthy-eating-plate/\\n4/8\\n')]\n",
      "Total documents loaded: 3\n"
     ]
    }
   ],
   "source": [
    "#load 1 file\n",
    "documents = load_file(\"document/HealthyEatingPlate.pdf\")\n",
    "print(documents)\n",
    "print(f\"Total documents loaded: {len(documents)}\")"
   ]
  },
  {
   "cell_type": "code",
   "execution_count": 4,
   "metadata": {},
   "outputs": [],
   "source": [
    "# from langchain.text_splitter import RecursiveCharacterTextSplitter\n",
    "# #split into small chunks\n",
    "# # \\n\\n, \\n\n",
    "# def chunking_document(document):\n",
    "#   text_splitter = RecursiveCharacterTextSplitter(chunk_size=1000, chunk_overlap=20)\n",
    "#   texts = text_splitter.split_documents(document)\n",
    "#   return texts\n",
    "\n",
    "from langchain.text_splitter import RecursiveCharacterTextSplitter\n",
    "\n",
    "# Split documents into small chunks\n",
    "# The document parameter now expects a list of documents\n",
    "def chunking_document(documents):\n",
    "    text_splitter = RecursiveCharacterTextSplitter(chunk_size=1000, chunk_overlap=20)\n",
    "    texts = []\n",
    "    \n",
    "    # Loop through each document and split it into chunks\n",
    "    for document in documents:\n",
    "        texts.extend(text_splitter.split_documents([document]))\n",
    "    \n",
    "    return texts\n"
   ]
  },
  {
   "cell_type": "code",
   "execution_count": 5,
   "metadata": {},
   "outputs": [
    {
     "name": "stdout",
     "output_type": "stream",
     "text": [
      "4\n",
      "page_content='The Healthy Eating Plate encourages consumers to use healthy oils, and it\n",
      "does not set a maximum on the percentage of calories people should get each\n",
      "day from healthy sources of fat. In this way, the Healthy Eating Plate\n",
      "recommends the opposite of the low-fat message promoted for decades by the\n",
      "USDA.\n",
      "Your Questions Answered\n",
      "Your Plate and the Planet\n",
      "Just as different foods can have differing impacts on human health, they also have\n",
      "differing impacts on the environment. Food production is a major contributor to\n",
      "greenhouse gas emissions, and it places an enormous demand upon our earth’s\n",
      "natural resources.\n",
      "LEARN ABOUT THE IMPACTS OF THE FOODS ON YOUR PLATE\n",
      "9/23/24, 3:49 PM\n",
      "Healthy Eating Plate – The Nutrition Source\n",
      "https://nutritionsource.hsph.harvard.edu/healthy-eating-plate/\n",
      "4/8' metadata={'source': 'document/HealthyEatingPlate.pdf', 'file_path': 'document/HealthyEatingPlate.pdf', 'page': 2, 'total_pages': 3, 'format': 'PDF 1.4', 'title': 'Healthy Eating Plate – The Nutrition Source', 'author': '', 'subject': '', 'keywords': '', 'creator': 'Mozilla/5.0 (Macintosh; Intel Mac OS X 10_15_7) AppleWebKit/537.36 (KHTML, like Gecko) Chrome/129.0.0.0 Safari/537.36', 'producer': 'Skia/PDF m129', 'creationDate': \"D:20240923084939+00'00'\", 'modDate': \"D:20240923084939+00'00'\", 'trapped': ''}\n"
     ]
    }
   ],
   "source": [
    "texts = chunking_document(documents)\n",
    "print(len(texts))\n",
    "print(texts[len(texts)-1])"
   ]
  },
  {
   "cell_type": "code",
   "execution_count": 13,
   "metadata": {},
   "outputs": [],
   "source": [
    "from langchain import HuggingFaceHub\n",
    "def get_llm():\n",
    "    model_name = \"google/flan-t5-large\"\n",
    "    model_kwargs=({\"temperature\":0.9,\n",
    "                \"max_length\": 100})\n",
    "    llm = HuggingFaceHub(repo_id=model_name, model_kwargs=model_kwargs)\n",
    "    return llm\n",
    "\n",
    "# from langchain_community.llms import CTransformers\n",
    "\n",
    "# def get_llm():\n",
    "#     llm = CTransformers(model='models/llama-2-7b-chat.ggmlv3.q8_0.bin',\n",
    "#                         # https://huggingface.co/TheBloke/Llama-2-7B-Chat-GGML/tree/main\n",
    "#                         model_type='llama',\n",
    "#                         config={'temperature': 0.9})\n",
    "#     return llm"
   ]
  },
  {
   "cell_type": "code",
   "execution_count": 7,
   "metadata": {},
   "outputs": [
    {
     "name": "stderr",
     "output_type": "stream",
     "text": [
      "/Users/AnVo/learning_place/nutrition/.venv/lib/python3.11/site-packages/transformers/tokenization_utils_base.py:1601: FutureWarning: `clean_up_tokenization_spaces` was not set. It will be set to `True` by default. This behavior will be depracted in transformers v4.45, and will be then set to `False` by default. For more details check this issue: https://github.com/huggingface/transformers/issues/31884\n",
      "  warnings.warn(\n"
     ]
    }
   ],
   "source": [
    "### Persisted ChromaDB to disk\n",
    "from langchain_huggingface import HuggingFaceEmbeddings\n",
    "from langchain.chains import RetrievalQA\n",
    "from langchain.vectorstores import Chroma\n",
    "\n",
    "#instantiate the Chroma object from langchain, using Hugging embedding\n",
    "def persist_db(texts):\n",
    "    #DB name = chromadb_langchain101\n",
    "    persists_directory = \"./db/nutrition_db\" \n",
    "    embeddings = HuggingFaceEmbeddings()\n",
    "\n",
    "    # Save to disk\n",
    "    vectordb = Chroma.from_documents(\n",
    "        documents=texts,\n",
    "        embedding=embeddings,\n",
    "        collection_name=\"nutrion\",\n",
    "        persist_directory=persists_directory\n",
    "    )\n",
    "    return vectordb\n",
    "\n",
    "vectordb = persist_db(texts)"
   ]
  },
  {
   "cell_type": "code",
   "execution_count": 10,
   "metadata": {},
   "outputs": [],
   "source": [
    "# import os\n",
    "# # Disable tokenizers parallelism\n",
    "# os.environ[\"TOKENIZERS_PARALLELISM\"] = \"false\"\n",
    "\n",
    "#query from Chroma object\n",
    "chain = RetrievalQA.from_chain_type(get_llm(), retriever=vectordb.as_retriever())"
   ]
  },
  {
   "cell_type": "code",
   "execution_count": 17,
   "metadata": {},
   "outputs": [],
   "source": [
    "def format_llm_prompt(question):\n",
    "    mega_prompt = f\"\"\"\n",
    "    You are a helpful, concise assistant specializing in providing clear, human-like responses. \n",
    "    When answering the following question, ensure your response is natural, well-structured, and brief:\n",
    "\n",
    "    Question: {question}\n",
    "\n",
    "    Please answer in a polite and clear manner, and include relevant context where needed, but keep the response to the point.\n",
    "    \"\"\"\n",
    "    return mega_prompt\n"
   ]
  },
  {
   "cell_type": "code",
   "execution_count": 18,
   "metadata": {},
   "outputs": [],
   "source": [
    "def ask_llm_question(question, chain):\n",
    "    # Generate the well-structured prompt\n",
    "    formatted_prompt = format_llm_prompt(question)\n",
    "    \n",
    "    # Pass the formatted prompt to the chain\n",
    "    response = chain.invoke(formatted_prompt)\n",
    "    \n",
    "    # Return the result\n",
    "    return response['result']"
   ]
  },
  {
   "cell_type": "code",
   "execution_count": 21,
   "metadata": {},
   "outputs": [
    {
     "name": "stdout",
     "output_type": "stream",
     "text": [
      "Protein power – 14 of your plate. Fish, poultry, beans, and nuts are all healthy, versatile protein sources\n"
     ]
    }
   ],
   "source": [
    "# Example usage\n",
    "chain = RetrievalQA.from_chain_type(get_llm(), retriever=vectordb.as_retriever())\n",
    "question = \"how many protein should have in our plate?\"\n",
    "formatted_response = ask_llm_question(question, chain)\n",
    "\n",
    "# Output the response\n",
    "print(formatted_response)"
   ]
  },
  {
   "cell_type": "code",
   "execution_count": 22,
   "metadata": {},
   "outputs": [
    {
     "name": "stdout",
     "output_type": "stream",
     "text": [
      "Choose healthy vegetable oils like olive, canola, soy, corn, sunflower, peanut, and others, and avoid partially hydrogenated oils, which contain unhealthy trans fats.\n"
     ]
    }
   ],
   "source": [
    "# Example usage\n",
    "chain = RetrievalQA.from_chain_type(get_llm(), retriever=vectordb.as_retriever())\n",
    "question = \"tell me about the oils?\"\n",
    "formatted_response = ask_llm_question(question, chain)\n",
    "\n",
    "# Output the response\n",
    "print(formatted_response)"
   ]
  }
 ],
 "metadata": {
  "kernelspec": {
   "display_name": ".venv",
   "language": "python",
   "name": "python3"
  },
  "language_info": {
   "codemirror_mode": {
    "name": "ipython",
    "version": 3
   },
   "file_extension": ".py",
   "mimetype": "text/x-python",
   "name": "python",
   "nbconvert_exporter": "python",
   "pygments_lexer": "ipython3",
   "version": "3.11.7"
  }
 },
 "nbformat": 4,
 "nbformat_minor": 2
}
